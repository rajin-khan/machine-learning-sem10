{
 "cells": [
  {
   "cell_type": "markdown",
   "metadata": {},
   "source": [
    "# This notebook will contain answers to the EDA Individual Assignment.\n",
    "### (for CSE 445, Section 7)\n",
    "#### Adib Ar Rahman Khan, 2212708042"
   ]
  },
  {
   "cell_type": "markdown",
   "metadata": {},
   "source": [
    "### **TASK 1:**"
   ]
  },
  {
   "cell_type": "markdown",
   "metadata": {},
   "source": [
    "#### Question 1: Which of the following statements best describes a dataset?\n",
    "\n",
    "**B)** A group of data visualization techniques. \n",
    "\n",
    "#### Question 2: Why is data preprocessing an important step in data analysis?\n",
    "\n",
    "**C)** It reduces noise and inconsistencies in the data, improving the quality of analysis.  \n",
    "\n",
    "#### Question 3: Which of the following is considered categorical data?\n",
    "\n",
    "**C)** Colors of flowers (e.g., red, blue, yellow).   \n",
    "\n",
    "#### Question 4: What is one common method for handling missing data in a dataset?\n",
    "\n",
    "**B)** Removing the entire row or column containing missing values.  \n",
    "\n",
    "\n",
    "#### Question 5: What does feature engineering involve in data analysis?\n",
    "\n",
    "**C)** It involves creating or transforming new features to improve the model's performance.  \n",
    "\n",
    "#### Question 6: Why is splitting a dataset into training and testing sets important?\n",
    "\n",
    "**C)** To ensure that the model's performance is evaluated on unseen data.  \n",
    "\n",
    "\n",
    "#### Question 7: What is a common technique to handle categorical data before feeding it into a machine learning model?\n",
    " \n",
    "**C)** One-Hot Encoding, where each category becomes a binary column.  \n",
    "\n",
    "#### Question 8: Why might scaling numerical features in a dataset be necessary?\n",
    "\n",
    "**C)** To ensure that all numerical features have the same unit of measurement.  \n",
    "\n",
    "#### Question 9: What is an outlier in the context of data analysis?\n",
    " \n",
    "**C)** Unusual or extreme data points that significantly differ from the rest.  \n",
    "\n",
    "#### Question 10: What does data imputation involve?\n",
    " \n",
    "**D)** Filling in missing values with estimated or calculated values.  \n",
    "\n",
    "#### Question 11: What is a consideration when dealing with time-series data in data analysis?\n",
    "\n",
    "**C)** The order and timing of data points matter.  \n",
    "\n",
    "#### Question 12: What is the primary goal of dimensionality reduction techniques in data analysis?\n",
    "\n",
    "**D)** To reduce the number of features while preserving relevant information.  \n",
    "\n",
    "#### Question 13: Why is addressing imbalanced classes important when building models?\n",
    "\n",
    "**C)** Imbalanced classes can bias the model towards the majority class.  \n",
    "\n",
    "#### Question 14: Which preprocessing step is commonly used for text data before analysis?\n",
    "\n",
    "**A)** Converting text data to numerical values using encoding techniques.  \n"
   ]
  },
  {
   "cell_type": "markdown",
   "metadata": {},
   "source": [
    "### **TASK 2:**"
   ]
  },
  {
   "cell_type": "markdown",
   "metadata": {},
   "source": [
    "### **Part 1:**"
   ]
  },
  {
   "cell_type": "markdown",
   "metadata": {},
   "source": [
    "### First, we'll import the necessary libraries."
   ]
  },
  {
   "cell_type": "code",
   "execution_count": 2,
   "metadata": {},
   "outputs": [],
   "source": [
    "import numpy as np\n",
    "import pandas as pd\n",
    "import matplotlib.pyplot as plt\n",
    "# matplotlib used as it allows for greater control than seaborn"
   ]
  },
  {
   "cell_type": "markdown",
   "metadata": {},
   "source": [
    "### 1: Let's import the data into a dataframe."
   ]
  },
  {
   "cell_type": "code",
   "execution_count": 3,
   "metadata": {},
   "outputs": [],
   "source": [
    "df = pd.read_csv('ecommerce_data.csv')"
   ]
  },
  {
   "cell_type": "markdown",
   "metadata": {},
   "source": [
    "### Getting initial dataset info:"
   ]
  },
  {
   "cell_type": "code",
   "execution_count": 4,
   "metadata": {},
   "outputs": [
    {
     "name": "stdout",
     "output_type": "stream",
     "text": [
      "<class 'pandas.core.frame.DataFrame'>\n",
      "RangeIndex: 1000 entries, 0 to 999\n",
      "Data columns (total 7 columns):\n",
      " #   Column      Non-Null Count  Dtype  \n",
      "---  ------      --------------  -----  \n",
      " 0   CustomerID  1000 non-null   int64  \n",
      " 1   Timestamp   1000 non-null   object \n",
      " 2   ProductID   1000 non-null   int64  \n",
      " 3   Category    900 non-null    object \n",
      " 4   Price       900 non-null    float64\n",
      " 5   Quantity    1000 non-null   int64  \n",
      " 6   Action      1000 non-null   object \n",
      "dtypes: float64(1), int64(3), object(3)\n",
      "memory usage: 54.8+ KB\n"
     ]
    }
   ],
   "source": [
    "df.info()"
   ]
  },
  {
   "cell_type": "code",
   "execution_count": 5,
   "metadata": {},
   "outputs": [
    {
     "data": {
      "text/html": [
       "<div>\n",
       "<style scoped>\n",
       "    .dataframe tbody tr th:only-of-type {\n",
       "        vertical-align: middle;\n",
       "    }\n",
       "\n",
       "    .dataframe tbody tr th {\n",
       "        vertical-align: top;\n",
       "    }\n",
       "\n",
       "    .dataframe thead th {\n",
       "        text-align: right;\n",
       "    }\n",
       "</style>\n",
       "<table border=\"1\" class=\"dataframe\">\n",
       "  <thead>\n",
       "    <tr style=\"text-align: right;\">\n",
       "      <th></th>\n",
       "      <th>CustomerID</th>\n",
       "      <th>Timestamp</th>\n",
       "      <th>ProductID</th>\n",
       "      <th>Category</th>\n",
       "      <th>Price</th>\n",
       "      <th>Quantity</th>\n",
       "      <th>Action</th>\n",
       "    </tr>\n",
       "  </thead>\n",
       "  <tbody>\n",
       "    <tr>\n",
       "      <th>0</th>\n",
       "      <td>1052</td>\n",
       "      <td>2023-01-01</td>\n",
       "      <td>2</td>\n",
       "      <td>Clothing</td>\n",
       "      <td>125.570224</td>\n",
       "      <td>2</td>\n",
       "      <td>Add to Cart</td>\n",
       "    </tr>\n",
       "    <tr>\n",
       "      <th>1</th>\n",
       "      <td>1093</td>\n",
       "      <td>2023-01-02</td>\n",
       "      <td>15</td>\n",
       "      <td>Clothing</td>\n",
       "      <td>191.996781</td>\n",
       "      <td>3</td>\n",
       "      <td>Add to Cart</td>\n",
       "    </tr>\n",
       "    <tr>\n",
       "      <th>2</th>\n",
       "      <td>1015</td>\n",
       "      <td>2023-01-03</td>\n",
       "      <td>8</td>\n",
       "      <td>Clothing</td>\n",
       "      <td>40.645691</td>\n",
       "      <td>1</td>\n",
       "      <td>Add to Cart</td>\n",
       "    </tr>\n",
       "    <tr>\n",
       "      <th>3</th>\n",
       "      <td>1072</td>\n",
       "      <td>2023-01-04</td>\n",
       "      <td>8</td>\n",
       "      <td>NaN</td>\n",
       "      <td>NaN</td>\n",
       "      <td>2</td>\n",
       "      <td>View</td>\n",
       "    </tr>\n",
       "    <tr>\n",
       "      <th>4</th>\n",
       "      <td>1061</td>\n",
       "      <td>2023-01-05</td>\n",
       "      <td>17</td>\n",
       "      <td>NaN</td>\n",
       "      <td>NaN</td>\n",
       "      <td>5</td>\n",
       "      <td>Purchase</td>\n",
       "    </tr>\n",
       "    <tr>\n",
       "      <th>5</th>\n",
       "      <td>1021</td>\n",
       "      <td>2023-01-06</td>\n",
       "      <td>12</td>\n",
       "      <td>Books</td>\n",
       "      <td>369.471757</td>\n",
       "      <td>1</td>\n",
       "      <td>Add to Cart</td>\n",
       "    </tr>\n",
       "    <tr>\n",
       "      <th>6</th>\n",
       "      <td>1083</td>\n",
       "      <td>2023-01-07</td>\n",
       "      <td>19</td>\n",
       "      <td>Home</td>\n",
       "      <td>156.727320</td>\n",
       "      <td>1</td>\n",
       "      <td>View</td>\n",
       "    </tr>\n",
       "    <tr>\n",
       "      <th>7</th>\n",
       "      <td>1087</td>\n",
       "      <td>2023-01-08</td>\n",
       "      <td>10</td>\n",
       "      <td>Books</td>\n",
       "      <td>95.005236</td>\n",
       "      <td>2</td>\n",
       "      <td>Add to Cart</td>\n",
       "    </tr>\n",
       "    <tr>\n",
       "      <th>8</th>\n",
       "      <td>1075</td>\n",
       "      <td>2023-01-09</td>\n",
       "      <td>9</td>\n",
       "      <td>Electronics</td>\n",
       "      <td>322.401100</td>\n",
       "      <td>3</td>\n",
       "      <td>Purchase</td>\n",
       "    </tr>\n",
       "    <tr>\n",
       "      <th>9</th>\n",
       "      <td>1075</td>\n",
       "      <td>2023-01-10</td>\n",
       "      <td>5</td>\n",
       "      <td>Books</td>\n",
       "      <td>253.121528</td>\n",
       "      <td>1</td>\n",
       "      <td>View</td>\n",
       "    </tr>\n",
       "  </tbody>\n",
       "</table>\n",
       "</div>"
      ],
      "text/plain": [
       "   CustomerID   Timestamp  ProductID     Category       Price  Quantity  \\\n",
       "0        1052  2023-01-01          2     Clothing  125.570224         2   \n",
       "1        1093  2023-01-02         15     Clothing  191.996781         3   \n",
       "2        1015  2023-01-03          8     Clothing   40.645691         1   \n",
       "3        1072  2023-01-04          8          NaN         NaN         2   \n",
       "4        1061  2023-01-05         17          NaN         NaN         5   \n",
       "5        1021  2023-01-06         12        Books  369.471757         1   \n",
       "6        1083  2023-01-07         19         Home  156.727320         1   \n",
       "7        1087  2023-01-08         10        Books   95.005236         2   \n",
       "8        1075  2023-01-09          9  Electronics  322.401100         3   \n",
       "9        1075  2023-01-10          5        Books  253.121528         1   \n",
       "\n",
       "        Action  \n",
       "0  Add to Cart  \n",
       "1  Add to Cart  \n",
       "2  Add to Cart  \n",
       "3         View  \n",
       "4     Purchase  \n",
       "5  Add to Cart  \n",
       "6         View  \n",
       "7  Add to Cart  \n",
       "8     Purchase  \n",
       "9         View  "
      ]
     },
     "execution_count": 5,
     "metadata": {},
     "output_type": "execute_result"
    }
   ],
   "source": [
    "df.head(10)"
   ]
  },
  {
   "cell_type": "code",
   "execution_count": 6,
   "metadata": {},
   "outputs": [
    {
     "data": {
      "text/plain": [
       "CustomerID      0\n",
       "Timestamp       0\n",
       "ProductID       0\n",
       "Category      100\n",
       "Price         100\n",
       "Quantity        0\n",
       "Action          0\n",
       "dtype: int64"
      ]
     },
     "execution_count": 6,
     "metadata": {},
     "output_type": "execute_result"
    }
   ],
   "source": [
    "df.isna().sum() # Finding null values"
   ]
  },
  {
   "cell_type": "markdown",
   "metadata": {},
   "source": [
    "#### For the null value features, it will be useful to get further info:"
   ]
  },
  {
   "cell_type": "code",
   "execution_count": 7,
   "metadata": {},
   "outputs": [
    {
     "data": {
      "text/plain": [
       "900"
      ]
     },
     "execution_count": 7,
     "metadata": {},
     "output_type": "execute_result"
    }
   ],
   "source": [
    "df['Price'].nunique()"
   ]
  },
  {
   "cell_type": "code",
   "execution_count": 8,
   "metadata": {},
   "outputs": [
    {
     "data": {
      "text/plain": [
       "array(['Clothing', nan, 'Books', 'Home', 'Electronics'], dtype=object)"
      ]
     },
     "execution_count": 8,
     "metadata": {},
     "output_type": "execute_result"
    }
   ],
   "source": [
    "df['Category'].unique()"
   ]
  },
  {
   "cell_type": "code",
   "execution_count": 9,
   "metadata": {},
   "outputs": [
    {
     "data": {
      "text/plain": [
       "array([ 2, 15,  8, 17, 12, 19, 10,  9,  5,  6, 20, 13,  1, 16,  4, 11,  3,\n",
       "       14, 18,  7])"
      ]
     },
     "execution_count": 9,
     "metadata": {},
     "output_type": "execute_result"
    }
   ],
   "source": [
    "df['ProductID'].unique() # To see if there is any correlation between product id and category."
   ]
  },
  {
   "cell_type": "markdown",
   "metadata": {},
   "source": [
    "### 2: Handling missing values ~ Since our dataset is quite small, it will be costly to drop the instances with null values. Thus, we will fill them in using specific imputation methods."
   ]
  },
  {
   "cell_type": "markdown",
   "metadata": {},
   "source": [
    "#### For category, we will use its mode, as it is the most frequently occuring value in this feature:"
   ]
  },
  {
   "cell_type": "code",
   "execution_count": 10,
   "metadata": {},
   "outputs": [
    {
     "data": {
      "text/plain": [
       "'Clothing'"
      ]
     },
     "execution_count": 10,
     "metadata": {},
     "output_type": "execute_result"
    }
   ],
   "source": [
    "df['Category'].mode()[0]"
   ]
  },
  {
   "cell_type": "code",
   "execution_count": 11,
   "metadata": {},
   "outputs": [
    {
     "data": {
      "text/html": [
       "<div>\n",
       "<style scoped>\n",
       "    .dataframe tbody tr th:only-of-type {\n",
       "        vertical-align: middle;\n",
       "    }\n",
       "\n",
       "    .dataframe tbody tr th {\n",
       "        vertical-align: top;\n",
       "    }\n",
       "\n",
       "    .dataframe thead th {\n",
       "        text-align: right;\n",
       "    }\n",
       "</style>\n",
       "<table border=\"1\" class=\"dataframe\">\n",
       "  <thead>\n",
       "    <tr style=\"text-align: right;\">\n",
       "      <th></th>\n",
       "      <th>CustomerID</th>\n",
       "      <th>Timestamp</th>\n",
       "      <th>ProductID</th>\n",
       "      <th>Category</th>\n",
       "      <th>Price</th>\n",
       "      <th>Quantity</th>\n",
       "      <th>Action</th>\n",
       "    </tr>\n",
       "  </thead>\n",
       "  <tbody>\n",
       "    <tr>\n",
       "      <th>0</th>\n",
       "      <td>1052</td>\n",
       "      <td>2023-01-01</td>\n",
       "      <td>2</td>\n",
       "      <td>Clothing</td>\n",
       "      <td>125.570224</td>\n",
       "      <td>2</td>\n",
       "      <td>Add to Cart</td>\n",
       "    </tr>\n",
       "    <tr>\n",
       "      <th>1</th>\n",
       "      <td>1093</td>\n",
       "      <td>2023-01-02</td>\n",
       "      <td>15</td>\n",
       "      <td>Clothing</td>\n",
       "      <td>191.996781</td>\n",
       "      <td>3</td>\n",
       "      <td>Add to Cart</td>\n",
       "    </tr>\n",
       "    <tr>\n",
       "      <th>2</th>\n",
       "      <td>1015</td>\n",
       "      <td>2023-01-03</td>\n",
       "      <td>8</td>\n",
       "      <td>Clothing</td>\n",
       "      <td>40.645691</td>\n",
       "      <td>1</td>\n",
       "      <td>Add to Cart</td>\n",
       "    </tr>\n",
       "    <tr>\n",
       "      <th>3</th>\n",
       "      <td>1072</td>\n",
       "      <td>2023-01-04</td>\n",
       "      <td>8</td>\n",
       "      <td>Clothing</td>\n",
       "      <td>NaN</td>\n",
       "      <td>2</td>\n",
       "      <td>View</td>\n",
       "    </tr>\n",
       "    <tr>\n",
       "      <th>4</th>\n",
       "      <td>1061</td>\n",
       "      <td>2023-01-05</td>\n",
       "      <td>17</td>\n",
       "      <td>Clothing</td>\n",
       "      <td>NaN</td>\n",
       "      <td>5</td>\n",
       "      <td>Purchase</td>\n",
       "    </tr>\n",
       "    <tr>\n",
       "      <th>...</th>\n",
       "      <td>...</td>\n",
       "      <td>...</td>\n",
       "      <td>...</td>\n",
       "      <td>...</td>\n",
       "      <td>...</td>\n",
       "      <td>...</td>\n",
       "      <td>...</td>\n",
       "    </tr>\n",
       "    <tr>\n",
       "      <th>995</th>\n",
       "      <td>1010</td>\n",
       "      <td>2025-09-22</td>\n",
       "      <td>15</td>\n",
       "      <td>Books</td>\n",
       "      <td>284.444932</td>\n",
       "      <td>2</td>\n",
       "      <td>Add to Cart</td>\n",
       "    </tr>\n",
       "    <tr>\n",
       "      <th>996</th>\n",
       "      <td>1067</td>\n",
       "      <td>2025-09-23</td>\n",
       "      <td>2</td>\n",
       "      <td>Clothing</td>\n",
       "      <td>392.558608</td>\n",
       "      <td>5</td>\n",
       "      <td>Add to Cart</td>\n",
       "    </tr>\n",
       "    <tr>\n",
       "      <th>997</th>\n",
       "      <td>1018</td>\n",
       "      <td>2025-09-24</td>\n",
       "      <td>1</td>\n",
       "      <td>Home</td>\n",
       "      <td>357.159952</td>\n",
       "      <td>1</td>\n",
       "      <td>Add to Cart</td>\n",
       "    </tr>\n",
       "    <tr>\n",
       "      <th>998</th>\n",
       "      <td>1100</td>\n",
       "      <td>2025-09-25</td>\n",
       "      <td>11</td>\n",
       "      <td>Electronics</td>\n",
       "      <td>94.323722</td>\n",
       "      <td>3</td>\n",
       "      <td>Purchase</td>\n",
       "    </tr>\n",
       "    <tr>\n",
       "      <th>999</th>\n",
       "      <td>1086</td>\n",
       "      <td>2025-09-26</td>\n",
       "      <td>10</td>\n",
       "      <td>Home</td>\n",
       "      <td>486.485800</td>\n",
       "      <td>4</td>\n",
       "      <td>View</td>\n",
       "    </tr>\n",
       "  </tbody>\n",
       "</table>\n",
       "<p>1000 rows × 7 columns</p>\n",
       "</div>"
      ],
      "text/plain": [
       "     CustomerID   Timestamp  ProductID     Category       Price  Quantity  \\\n",
       "0          1052  2023-01-01          2     Clothing  125.570224         2   \n",
       "1          1093  2023-01-02         15     Clothing  191.996781         3   \n",
       "2          1015  2023-01-03          8     Clothing   40.645691         1   \n",
       "3          1072  2023-01-04          8     Clothing         NaN         2   \n",
       "4          1061  2023-01-05         17     Clothing         NaN         5   \n",
       "..          ...         ...        ...          ...         ...       ...   \n",
       "995        1010  2025-09-22         15        Books  284.444932         2   \n",
       "996        1067  2025-09-23          2     Clothing  392.558608         5   \n",
       "997        1018  2025-09-24          1         Home  357.159952         1   \n",
       "998        1100  2025-09-25         11  Electronics   94.323722         3   \n",
       "999        1086  2025-09-26         10         Home  486.485800         4   \n",
       "\n",
       "          Action  \n",
       "0    Add to Cart  \n",
       "1    Add to Cart  \n",
       "2    Add to Cart  \n",
       "3           View  \n",
       "4       Purchase  \n",
       "..           ...  \n",
       "995  Add to Cart  \n",
       "996  Add to Cart  \n",
       "997  Add to Cart  \n",
       "998     Purchase  \n",
       "999         View  \n",
       "\n",
       "[1000 rows x 7 columns]"
      ]
     },
     "execution_count": 11,
     "metadata": {},
     "output_type": "execute_result"
    }
   ],
   "source": [
    "df.fillna({'Category': df['Category'].mode()[0]}, inplace=True) # Using in place, there is no need to reassign it back into the dataframe.\n",
    "df"
   ]
  },
  {
   "cell_type": "markdown",
   "metadata": {},
   "source": [
    "#### For price, we will replace the missing numerical values with the mean of this feature:"
   ]
  },
  {
   "cell_type": "code",
   "execution_count": 12,
   "metadata": {},
   "outputs": [
    {
     "data": {
      "text/plain": [
       "np.float64(257.7055793204124)"
      ]
     },
     "execution_count": 12,
     "metadata": {},
     "output_type": "execute_result"
    }
   ],
   "source": [
    "df['Price'].mean()\n"
   ]
  },
  {
   "cell_type": "code",
   "execution_count": 13,
   "metadata": {},
   "outputs": [
    {
     "data": {
      "text/html": [
       "<div>\n",
       "<style scoped>\n",
       "    .dataframe tbody tr th:only-of-type {\n",
       "        vertical-align: middle;\n",
       "    }\n",
       "\n",
       "    .dataframe tbody tr th {\n",
       "        vertical-align: top;\n",
       "    }\n",
       "\n",
       "    .dataframe thead th {\n",
       "        text-align: right;\n",
       "    }\n",
       "</style>\n",
       "<table border=\"1\" class=\"dataframe\">\n",
       "  <thead>\n",
       "    <tr style=\"text-align: right;\">\n",
       "      <th></th>\n",
       "      <th>CustomerID</th>\n",
       "      <th>Timestamp</th>\n",
       "      <th>ProductID</th>\n",
       "      <th>Category</th>\n",
       "      <th>Price</th>\n",
       "      <th>Quantity</th>\n",
       "      <th>Action</th>\n",
       "    </tr>\n",
       "  </thead>\n",
       "  <tbody>\n",
       "    <tr>\n",
       "      <th>0</th>\n",
       "      <td>1052</td>\n",
       "      <td>2023-01-01</td>\n",
       "      <td>2</td>\n",
       "      <td>Clothing</td>\n",
       "      <td>125.570224</td>\n",
       "      <td>2</td>\n",
       "      <td>Add to Cart</td>\n",
       "    </tr>\n",
       "    <tr>\n",
       "      <th>1</th>\n",
       "      <td>1093</td>\n",
       "      <td>2023-01-02</td>\n",
       "      <td>15</td>\n",
       "      <td>Clothing</td>\n",
       "      <td>191.996781</td>\n",
       "      <td>3</td>\n",
       "      <td>Add to Cart</td>\n",
       "    </tr>\n",
       "    <tr>\n",
       "      <th>2</th>\n",
       "      <td>1015</td>\n",
       "      <td>2023-01-03</td>\n",
       "      <td>8</td>\n",
       "      <td>Clothing</td>\n",
       "      <td>40.645691</td>\n",
       "      <td>1</td>\n",
       "      <td>Add to Cart</td>\n",
       "    </tr>\n",
       "    <tr>\n",
       "      <th>3</th>\n",
       "      <td>1072</td>\n",
       "      <td>2023-01-04</td>\n",
       "      <td>8</td>\n",
       "      <td>Clothing</td>\n",
       "      <td>257.705579</td>\n",
       "      <td>2</td>\n",
       "      <td>View</td>\n",
       "    </tr>\n",
       "    <tr>\n",
       "      <th>4</th>\n",
       "      <td>1061</td>\n",
       "      <td>2023-01-05</td>\n",
       "      <td>17</td>\n",
       "      <td>Clothing</td>\n",
       "      <td>257.705579</td>\n",
       "      <td>5</td>\n",
       "      <td>Purchase</td>\n",
       "    </tr>\n",
       "    <tr>\n",
       "      <th>...</th>\n",
       "      <td>...</td>\n",
       "      <td>...</td>\n",
       "      <td>...</td>\n",
       "      <td>...</td>\n",
       "      <td>...</td>\n",
       "      <td>...</td>\n",
       "      <td>...</td>\n",
       "    </tr>\n",
       "    <tr>\n",
       "      <th>995</th>\n",
       "      <td>1010</td>\n",
       "      <td>2025-09-22</td>\n",
       "      <td>15</td>\n",
       "      <td>Books</td>\n",
       "      <td>284.444932</td>\n",
       "      <td>2</td>\n",
       "      <td>Add to Cart</td>\n",
       "    </tr>\n",
       "    <tr>\n",
       "      <th>996</th>\n",
       "      <td>1067</td>\n",
       "      <td>2025-09-23</td>\n",
       "      <td>2</td>\n",
       "      <td>Clothing</td>\n",
       "      <td>392.558608</td>\n",
       "      <td>5</td>\n",
       "      <td>Add to Cart</td>\n",
       "    </tr>\n",
       "    <tr>\n",
       "      <th>997</th>\n",
       "      <td>1018</td>\n",
       "      <td>2025-09-24</td>\n",
       "      <td>1</td>\n",
       "      <td>Home</td>\n",
       "      <td>357.159952</td>\n",
       "      <td>1</td>\n",
       "      <td>Add to Cart</td>\n",
       "    </tr>\n",
       "    <tr>\n",
       "      <th>998</th>\n",
       "      <td>1100</td>\n",
       "      <td>2025-09-25</td>\n",
       "      <td>11</td>\n",
       "      <td>Electronics</td>\n",
       "      <td>94.323722</td>\n",
       "      <td>3</td>\n",
       "      <td>Purchase</td>\n",
       "    </tr>\n",
       "    <tr>\n",
       "      <th>999</th>\n",
       "      <td>1086</td>\n",
       "      <td>2025-09-26</td>\n",
       "      <td>10</td>\n",
       "      <td>Home</td>\n",
       "      <td>486.485800</td>\n",
       "      <td>4</td>\n",
       "      <td>View</td>\n",
       "    </tr>\n",
       "  </tbody>\n",
       "</table>\n",
       "<p>1000 rows × 7 columns</p>\n",
       "</div>"
      ],
      "text/plain": [
       "     CustomerID   Timestamp  ProductID     Category       Price  Quantity  \\\n",
       "0          1052  2023-01-01          2     Clothing  125.570224         2   \n",
       "1          1093  2023-01-02         15     Clothing  191.996781         3   \n",
       "2          1015  2023-01-03          8     Clothing   40.645691         1   \n",
       "3          1072  2023-01-04          8     Clothing  257.705579         2   \n",
       "4          1061  2023-01-05         17     Clothing  257.705579         5   \n",
       "..          ...         ...        ...          ...         ...       ...   \n",
       "995        1010  2025-09-22         15        Books  284.444932         2   \n",
       "996        1067  2025-09-23          2     Clothing  392.558608         5   \n",
       "997        1018  2025-09-24          1         Home  357.159952         1   \n",
       "998        1100  2025-09-25         11  Electronics   94.323722         3   \n",
       "999        1086  2025-09-26         10         Home  486.485800         4   \n",
       "\n",
       "          Action  \n",
       "0    Add to Cart  \n",
       "1    Add to Cart  \n",
       "2    Add to Cart  \n",
       "3           View  \n",
       "4       Purchase  \n",
       "..           ...  \n",
       "995  Add to Cart  \n",
       "996  Add to Cart  \n",
       "997  Add to Cart  \n",
       "998     Purchase  \n",
       "999         View  \n",
       "\n",
       "[1000 rows x 7 columns]"
      ]
     },
     "execution_count": 13,
     "metadata": {},
     "output_type": "execute_result"
    }
   ],
   "source": [
    "df.fillna({'Price': df['Price'].mean()}, inplace=True)\n",
    "df"
   ]
  },
  {
   "cell_type": "markdown",
   "metadata": {},
   "source": [
    "#### Finally, we do not know what this dataset will be used for, so it will be unwise to round off the Price to 2 decimal points (although that would have looked neater). If we are dealing with things like precise demand forecasting, or fraud detection, these tiny variations may make a difference."
   ]
  },
  {
   "cell_type": "markdown",
   "metadata": {},
   "source": [
    "### 3: Analyzing customer interactions"
   ]
  },
  {
   "cell_type": "markdown",
   "metadata": {},
   "source": [
    "#### It will be useful to first find out how many unique customers there are. (They will later form the buckets for our distribution)"
   ]
  },
  {
   "cell_type": "code",
   "execution_count": 14,
   "metadata": {},
   "outputs": [
    {
     "data": {
      "text/plain": [
       "array([1052, 1093, 1015, 1072, 1061, 1021, 1083, 1087, 1075, 1088, 1100,\n",
       "       1024, 1003, 1022, 1053, 1002, 1030, 1038, 1064, 1060, 1033, 1076,\n",
       "       1058, 1089, 1049, 1091, 1059, 1042, 1092, 1080, 1062, 1047, 1051,\n",
       "       1055, 1007, 1073, 1039, 1018, 1004, 1014, 1009, 1090, 1084, 1071,\n",
       "       1044, 1008, 1035, 1078, 1081, 1036, 1050, 1006, 1054, 1063, 1034,\n",
       "       1074, 1095, 1048, 1040, 1085, 1082, 1026, 1041, 1029, 1045, 1065,\n",
       "       1001, 1011, 1005, 1028, 1012, 1023, 1037, 1099, 1086, 1027, 1079,\n",
       "       1077, 1096, 1094, 1043, 1013, 1032, 1066, 1057, 1097, 1070, 1056,\n",
       "       1019, 1068, 1017, 1069, 1098, 1016, 1020, 1067, 1031, 1025, 1046,\n",
       "       1010])"
      ]
     },
     "execution_count": 14,
     "metadata": {},
     "output_type": "execute_result"
    }
   ],
   "source": [
    "df['CustomerID'].unique()"
   ]
  },
  {
   "cell_type": "markdown",
   "metadata": {},
   "source": [
    "#### As it has not been specified if this is a time-series analysis, I will be sorting the table in order of the CustomerID to help me undersand it more easily."
   ]
  },
  {
   "cell_type": "code",
   "execution_count": 15,
   "metadata": {},
   "outputs": [
    {
     "data": {
      "text/html": [
       "<div>\n",
       "<style scoped>\n",
       "    .dataframe tbody tr th:only-of-type {\n",
       "        vertical-align: middle;\n",
       "    }\n",
       "\n",
       "    .dataframe tbody tr th {\n",
       "        vertical-align: top;\n",
       "    }\n",
       "\n",
       "    .dataframe thead th {\n",
       "        text-align: right;\n",
       "    }\n",
       "</style>\n",
       "<table border=\"1\" class=\"dataframe\">\n",
       "  <thead>\n",
       "    <tr style=\"text-align: right;\">\n",
       "      <th></th>\n",
       "      <th>CustomerID</th>\n",
       "      <th>Timestamp</th>\n",
       "      <th>ProductID</th>\n",
       "      <th>Category</th>\n",
       "      <th>Price</th>\n",
       "      <th>Quantity</th>\n",
       "      <th>Action</th>\n",
       "    </tr>\n",
       "  </thead>\n",
       "  <tbody>\n",
       "    <tr>\n",
       "      <th>0</th>\n",
       "      <td>1001</td>\n",
       "      <td>2024-05-06</td>\n",
       "      <td>18</td>\n",
       "      <td>Books</td>\n",
       "      <td>270.806190</td>\n",
       "      <td>5</td>\n",
       "      <td>Add to Cart</td>\n",
       "    </tr>\n",
       "    <tr>\n",
       "      <th>1</th>\n",
       "      <td>1001</td>\n",
       "      <td>2023-10-02</td>\n",
       "      <td>4</td>\n",
       "      <td>Clothing</td>\n",
       "      <td>32.600547</td>\n",
       "      <td>2</td>\n",
       "      <td>Add to Cart</td>\n",
       "    </tr>\n",
       "    <tr>\n",
       "      <th>2</th>\n",
       "      <td>1001</td>\n",
       "      <td>2024-12-06</td>\n",
       "      <td>11</td>\n",
       "      <td>Clothing</td>\n",
       "      <td>101.151270</td>\n",
       "      <td>2</td>\n",
       "      <td>View</td>\n",
       "    </tr>\n",
       "    <tr>\n",
       "      <th>3</th>\n",
       "      <td>1001</td>\n",
       "      <td>2025-04-07</td>\n",
       "      <td>16</td>\n",
       "      <td>Clothing</td>\n",
       "      <td>284.828487</td>\n",
       "      <td>1</td>\n",
       "      <td>Purchase</td>\n",
       "    </tr>\n",
       "    <tr>\n",
       "      <th>4</th>\n",
       "      <td>1001</td>\n",
       "      <td>2025-08-11</td>\n",
       "      <td>20</td>\n",
       "      <td>Clothing</td>\n",
       "      <td>257.705579</td>\n",
       "      <td>2</td>\n",
       "      <td>Purchase</td>\n",
       "    </tr>\n",
       "    <tr>\n",
       "      <th>...</th>\n",
       "      <td>...</td>\n",
       "      <td>...</td>\n",
       "      <td>...</td>\n",
       "      <td>...</td>\n",
       "      <td>...</td>\n",
       "      <td>...</td>\n",
       "      <td>...</td>\n",
       "    </tr>\n",
       "    <tr>\n",
       "      <th>995</th>\n",
       "      <td>1100</td>\n",
       "      <td>2024-06-05</td>\n",
       "      <td>14</td>\n",
       "      <td>Home</td>\n",
       "      <td>74.862466</td>\n",
       "      <td>3</td>\n",
       "      <td>View</td>\n",
       "    </tr>\n",
       "    <tr>\n",
       "      <th>996</th>\n",
       "      <td>1100</td>\n",
       "      <td>2024-06-11</td>\n",
       "      <td>1</td>\n",
       "      <td>Clothing</td>\n",
       "      <td>375.471419</td>\n",
       "      <td>3</td>\n",
       "      <td>Add to Cart</td>\n",
       "    </tr>\n",
       "    <tr>\n",
       "      <th>997</th>\n",
       "      <td>1100</td>\n",
       "      <td>2023-03-27</td>\n",
       "      <td>17</td>\n",
       "      <td>Clothing</td>\n",
       "      <td>257.705579</td>\n",
       "      <td>3</td>\n",
       "      <td>View</td>\n",
       "    </tr>\n",
       "    <tr>\n",
       "      <th>998</th>\n",
       "      <td>1100</td>\n",
       "      <td>2024-09-11</td>\n",
       "      <td>1</td>\n",
       "      <td>Books</td>\n",
       "      <td>153.332395</td>\n",
       "      <td>5</td>\n",
       "      <td>Add to Cart</td>\n",
       "    </tr>\n",
       "    <tr>\n",
       "      <th>999</th>\n",
       "      <td>1100</td>\n",
       "      <td>2023-11-22</td>\n",
       "      <td>10</td>\n",
       "      <td>Clothing</td>\n",
       "      <td>143.068695</td>\n",
       "      <td>1</td>\n",
       "      <td>Purchase</td>\n",
       "    </tr>\n",
       "  </tbody>\n",
       "</table>\n",
       "<p>1000 rows × 7 columns</p>\n",
       "</div>"
      ],
      "text/plain": [
       "     CustomerID   Timestamp  ProductID  Category       Price  Quantity  \\\n",
       "0          1001  2024-05-06         18     Books  270.806190         5   \n",
       "1          1001  2023-10-02          4  Clothing   32.600547         2   \n",
       "2          1001  2024-12-06         11  Clothing  101.151270         2   \n",
       "3          1001  2025-04-07         16  Clothing  284.828487         1   \n",
       "4          1001  2025-08-11         20  Clothing  257.705579         2   \n",
       "..          ...         ...        ...       ...         ...       ...   \n",
       "995        1100  2024-06-05         14      Home   74.862466         3   \n",
       "996        1100  2024-06-11          1  Clothing  375.471419         3   \n",
       "997        1100  2023-03-27         17  Clothing  257.705579         3   \n",
       "998        1100  2024-09-11          1     Books  153.332395         5   \n",
       "999        1100  2023-11-22         10  Clothing  143.068695         1   \n",
       "\n",
       "          Action  \n",
       "0    Add to Cart  \n",
       "1    Add to Cart  \n",
       "2           View  \n",
       "3       Purchase  \n",
       "4       Purchase  \n",
       "..           ...  \n",
       "995         View  \n",
       "996  Add to Cart  \n",
       "997         View  \n",
       "998  Add to Cart  \n",
       "999     Purchase  \n",
       "\n",
       "[1000 rows x 7 columns]"
      ]
     },
     "execution_count": 15,
     "metadata": {},
     "output_type": "execute_result"
    }
   ],
   "source": [
    "df.sort_values(by='CustomerID', inplace=True)\n",
    "df = df.reset_index(drop=True)\n",
    "df"
   ]
  },
  {
   "cell_type": "markdown",
   "metadata": {},
   "source": [
    "#### Finding the total number of Actions in the entire dataset:"
   ]
  },
  {
   "cell_type": "code",
   "execution_count": 16,
   "metadata": {},
   "outputs": [
    {
     "data": {
      "text/plain": [
       "Action\n",
       "Purchase       466\n",
       "Add to Cart    271\n",
       "View           263\n",
       "Name: count, dtype: int64"
      ]
     },
     "execution_count": 16,
     "metadata": {},
     "output_type": "execute_result"
    }
   ],
   "source": [
    "df['Action'].value_counts()"
   ]
  },
  {
   "cell_type": "markdown",
   "metadata": {},
   "source": [
    "#### Finding total Actions for each Customer:"
   ]
  },
  {
   "cell_type": "code",
   "execution_count": 17,
   "metadata": {},
   "outputs": [
    {
     "data": {
      "text/plain": [
       "CustomerID\n",
       "1001    16\n",
       "1002    13\n",
       "1003    12\n",
       "1004    11\n",
       "1005    11\n",
       "        ..\n",
       "1096    13\n",
       "1097     9\n",
       "1098     7\n",
       "1099    18\n",
       "1100     9\n",
       "Name: Action, Length: 100, dtype: int64"
      ]
     },
     "execution_count": 17,
     "metadata": {},
     "output_type": "execute_result"
    }
   ],
   "source": [
    "df.groupby('CustomerID')['Action'].size()"
   ]
  },
  {
   "cell_type": "markdown",
   "metadata": {},
   "source": [
    "#### To better understand this, we will visualize it via a simple Distribution:"
   ]
  },
  {
   "cell_type": "code",
   "execution_count": 30,
   "metadata": {},
   "outputs": [
    {
     "data": {
      "image/png": "[encoded data removed]",
      "text/plain": [
       "<Figure size 1200x800 with 1 Axes>"
      ]
     },
     "metadata": {},
     "output_type": "display_data"
    }
   ],
   "source": [
    "#setting the theme of the generated graphs\n",
    "plt.style.use('dark_background')\n",
    "\n",
    "# saving the actions per customer in a dataframe to be used\n",
    "actions_by_customer = df.groupby('CustomerID')['Action'].count()\n",
    "\n",
    "# plotting the histogram\n",
    "plt.figure(figsize=(12, 8))\n",
    "plt.title('Distribution of Actions by CustomerID', fontsize=15, fontdict={'fontweight': 'bold'})\n",
    "\n",
    "plt.hist(actions_by_customer, bins=20, edgecolor='black', alpha=0.95, color='#fff38a')\n",
    "\n",
    "plt.xlabel('Number of Actions', fontsize=12)\n",
    "plt.xticks(fontsize=10)\n",
    "\n",
    "plt.ylabel('Frequency', fontsize=12)\n",
    "plt.yticks(fontsize=10)\n",
    "\n",
    "plt.grid(True, which='both', linestyle='--', linewidth=0.5)\n",
    "\n",
    "plt.savefig('./generated/A1a.png', dpi=500)\n",
    "plt.show()"
   ]
  },
  {
   "cell_type": "markdown",
   "metadata": {},
   "source": [
    "### *Analysis: we can see a standard distribution as expected, with most customers having average engagement of around 10 interactions, with a few having a lot of engagement.*"
   ]
  },
  {
   "cell_type": "markdown",
   "metadata": {},
   "source": [
    "### Part 2: Feature Engineering and Anaylsis:"
   ]
  },
  {
   "cell_type": "markdown",
   "metadata": {},
   "source": [
    "#### Creating a new feature, 'TotalSpent', from 'Price' and 'Quantity':"
   ]
  },
  {
   "cell_type": "code",
   "execution_count": 19,
   "metadata": {},
   "outputs": [
    {
     "data": {
      "text/html": [
       "<div>\n",
       "<style scoped>\n",
       "    .dataframe tbody tr th:only-of-type {\n",
       "        vertical-align: middle;\n",
       "    }\n",
       "\n",
       "    .dataframe tbody tr th {\n",
       "        vertical-align: top;\n",
       "    }\n",
       "\n",
       "    .dataframe thead th {\n",
       "        text-align: right;\n",
       "    }\n",
       "</style>\n",
       "<table border=\"1\" class=\"dataframe\">\n",
       "  <thead>\n",
       "    <tr style=\"text-align: right;\">\n",
       "      <th></th>\n",
       "      <th>CustomerID</th>\n",
       "      <th>Timestamp</th>\n",
       "      <th>ProductID</th>\n",
       "      <th>Category</th>\n",
       "      <th>Price</th>\n",
       "      <th>Quantity</th>\n",
       "      <th>Action</th>\n",
       "      <th>TotalSpent</th>\n",
       "    </tr>\n",
       "  </thead>\n",
       "  <tbody>\n",
       "    <tr>\n",
       "      <th>0</th>\n",
       "      <td>1001</td>\n",
       "      <td>2024-05-06</td>\n",
       "      <td>18</td>\n",
       "      <td>Books</td>\n",
       "      <td>270.806190</td>\n",
       "      <td>5</td>\n",
       "      <td>Add to Cart</td>\n",
       "      <td>1354.030951</td>\n",
       "    </tr>\n",
       "    <tr>\n",
       "      <th>1</th>\n",
       "      <td>1001</td>\n",
       "      <td>2023-10-02</td>\n",
       "      <td>4</td>\n",
       "      <td>Clothing</td>\n",
       "      <td>32.600547</td>\n",
       "      <td>2</td>\n",
       "      <td>Add to Cart</td>\n",
       "      <td>65.201093</td>\n",
       "    </tr>\n",
       "    <tr>\n",
       "      <th>2</th>\n",
       "      <td>1001</td>\n",
       "      <td>2024-12-06</td>\n",
       "      <td>11</td>\n",
       "      <td>Clothing</td>\n",
       "      <td>101.151270</td>\n",
       "      <td>2</td>\n",
       "      <td>View</td>\n",
       "      <td>202.302540</td>\n",
       "    </tr>\n",
       "    <tr>\n",
       "      <th>3</th>\n",
       "      <td>1001</td>\n",
       "      <td>2025-04-07</td>\n",
       "      <td>16</td>\n",
       "      <td>Clothing</td>\n",
       "      <td>284.828487</td>\n",
       "      <td>1</td>\n",
       "      <td>Purchase</td>\n",
       "      <td>284.828487</td>\n",
       "    </tr>\n",
       "    <tr>\n",
       "      <th>4</th>\n",
       "      <td>1001</td>\n",
       "      <td>2025-08-11</td>\n",
       "      <td>20</td>\n",
       "      <td>Clothing</td>\n",
       "      <td>257.705579</td>\n",
       "      <td>2</td>\n",
       "      <td>Purchase</td>\n",
       "      <td>515.411159</td>\n",
       "    </tr>\n",
       "    <tr>\n",
       "      <th>...</th>\n",
       "      <td>...</td>\n",
       "      <td>...</td>\n",
       "      <td>...</td>\n",
       "      <td>...</td>\n",
       "      <td>...</td>\n",
       "      <td>...</td>\n",
       "      <td>...</td>\n",
       "      <td>...</td>\n",
       "    </tr>\n",
       "    <tr>\n",
       "      <th>995</th>\n",
       "      <td>1100</td>\n",
       "      <td>2024-06-05</td>\n",
       "      <td>14</td>\n",
       "      <td>Home</td>\n",
       "      <td>74.862466</td>\n",
       "      <td>3</td>\n",
       "      <td>View</td>\n",
       "      <td>224.587397</td>\n",
       "    </tr>\n",
       "    <tr>\n",
       "      <th>996</th>\n",
       "      <td>1100</td>\n",
       "      <td>2024-06-11</td>\n",
       "      <td>1</td>\n",
       "      <td>Clothing</td>\n",
       "      <td>375.471419</td>\n",
       "      <td>3</td>\n",
       "      <td>Add to Cart</td>\n",
       "      <td>1126.414257</td>\n",
       "    </tr>\n",
       "    <tr>\n",
       "      <th>997</th>\n",
       "      <td>1100</td>\n",
       "      <td>2023-03-27</td>\n",
       "      <td>17</td>\n",
       "      <td>Clothing</td>\n",
       "      <td>257.705579</td>\n",
       "      <td>3</td>\n",
       "      <td>View</td>\n",
       "      <td>773.116738</td>\n",
       "    </tr>\n",
       "    <tr>\n",
       "      <th>998</th>\n",
       "      <td>1100</td>\n",
       "      <td>2024-09-11</td>\n",
       "      <td>1</td>\n",
       "      <td>Books</td>\n",
       "      <td>153.332395</td>\n",
       "      <td>5</td>\n",
       "      <td>Add to Cart</td>\n",
       "      <td>766.661973</td>\n",
       "    </tr>\n",
       "    <tr>\n",
       "      <th>999</th>\n",
       "      <td>1100</td>\n",
       "      <td>2023-11-22</td>\n",
       "      <td>10</td>\n",
       "      <td>Clothing</td>\n",
       "      <td>143.068695</td>\n",
       "      <td>1</td>\n",
       "      <td>Purchase</td>\n",
       "      <td>143.068695</td>\n",
       "    </tr>\n",
       "  </tbody>\n",
       "</table>\n",
       "<p>1000 rows × 8 columns</p>\n",
       "</div>"
      ],
      "text/plain": [
       "     CustomerID   Timestamp  ProductID  Category       Price  Quantity  \\\n",
       "0          1001  2024-05-06         18     Books  270.806190         5   \n",
       "1          1001  2023-10-02          4  Clothing   32.600547         2   \n",
       "2          1001  2024-12-06         11  Clothing  101.151270         2   \n",
       "3          1001  2025-04-07         16  Clothing  284.828487         1   \n",
       "4          1001  2025-08-11         20  Clothing  257.705579         2   \n",
       "..          ...         ...        ...       ...         ...       ...   \n",
       "995        1100  2024-06-05         14      Home   74.862466         3   \n",
       "996        1100  2024-06-11          1  Clothing  375.471419         3   \n",
       "997        1100  2023-03-27         17  Clothing  257.705579         3   \n",
       "998        1100  2024-09-11          1     Books  153.332395         5   \n",
       "999        1100  2023-11-22         10  Clothing  143.068695         1   \n",
       "\n",
       "          Action   TotalSpent  \n",
       "0    Add to Cart  1354.030951  \n",
       "1    Add to Cart    65.201093  \n",
       "2           View   202.302540  \n",
       "3       Purchase   284.828487  \n",
       "4       Purchase   515.411159  \n",
       "..           ...          ...  \n",
       "995         View   224.587397  \n",
       "996  Add to Cart  1126.414257  \n",
       "997         View   773.116738  \n",
       "998  Add to Cart   766.661973  \n",
       "999     Purchase   143.068695  \n",
       "\n",
       "[1000 rows x 8 columns]"
      ]
     },
     "execution_count": 19,
     "metadata": {},
     "output_type": "execute_result"
    }
   ],
   "source": [
    "df['TotalSpent'] = df['Price'] * df['Quantity']\n",
    "df"
   ]
  },
  {
   "cell_type": "markdown",
   "metadata": {},
   "source": [
    "#### Now, we find out the total amount spent per customer."
   ]
  },
  {
   "cell_type": "code",
   "execution_count": 20,
   "metadata": {},
   "outputs": [
    {
     "data": {
      "text/plain": [
       "CustomerID\n",
       "1001     6853.977804\n",
       "1002    10987.303028\n",
       "1003     9769.839998\n",
       "1004     7977.577175\n",
       "1005     7451.954286\n",
       "            ...     \n",
       "1096    11309.154776\n",
       "1097     5415.631786\n",
       "1098     6619.847574\n",
       "1099    15608.907612\n",
       "1100     5581.535609\n",
       "Name: TotalSpent, Length: 100, dtype: float64"
      ]
     },
     "execution_count": 20,
     "metadata": {},
     "output_type": "execute_result"
    }
   ],
   "source": [
    "total_spent_per_customer = df.groupby('CustomerID')['TotalSpent'].sum()\n",
    "total_spent_per_customer"
   ]
  },
  {
   "cell_type": "markdown",
   "metadata": {},
   "source": [
    "#### Visualizing individual customer expenditure:"
   ]
  },
  {
   "cell_type": "code",
   "execution_count": 31,
   "metadata": {},
   "outputs": [
    {
     "data": {
      "image/png": "[encoded data removed]",
      "text/plain": [
       "<Figure size 1600x800 with 1 Axes>"
      ]
     },
     "metadata": {},
     "output_type": "display_data"
    }
   ],
   "source": [
    "plt.figure(figsize=(16, 8))\n",
    "plt.title('Total Spent by Each Customer', fontsize=15, fontdict={'fontweight': 'bold'})\n",
    "\n",
    "total_spent_per_customer.plot(kind='bar', color='#fff38a', edgecolor='black')\n",
    "\n",
    "plt.xlabel('CustomerID', fontsize=12)\n",
    "plt.xticks(rotation=90, fontsize=10)\n",
    "\n",
    "plt.ylabel('Total Spent', fontsize=12)\n",
    "plt.yticks(fontsize=10)\n",
    "\n",
    "plt.grid(True, which='both', linestyle='--', linewidth=0.25)\n",
    "\n",
    "plt.savefig('./generated/A1b.png', dpi=500)\n",
    "plt.show()"
   ]
  },
  {
   "cell_type": "markdown",
   "metadata": {},
   "source": [
    "#### *Analysis: This individual expenditure helps us identify that overall, most customers spend an average of 5000~10000, with a few spending very high amounts, over or around 13000.*"
   ]
  },
  {
   "cell_type": "markdown",
   "metadata": {},
   "source": [
    "#### Visualizing overall customer Expenditure:"
   ]
  },
  {
   "cell_type": "code",
   "execution_count": 33,
   "metadata": {},
   "outputs": [
    {
     "data": {
      "image/png": "[encoded data removed]",
      "text/plain": [
       "<Figure size 1200x800 with 1 Axes>"
      ]
     },
     "metadata": {},
     "output_type": "display_data"
    }
   ],
   "source": [
    "plt.figure(figsize=(12, 8))\n",
    "plt.title('Distribution of Total Spent by CustomerID', fontsize=15, fontdict={'fontweight': 'bold'})\n",
    "\n",
    "plt.hist(total_spent_per_customer, bins=20, edgecolor='black', alpha=0.95, color='#fff38a')\n",
    "\n",
    "plt.xlabel('Total Spent', fontsize=12)\n",
    "plt.xticks(fontsize=10)\n",
    "\n",
    "plt.ylabel('Frequency', fontsize=12)\n",
    "plt.yticks(fontsize=10)\n",
    "\n",
    "plt.grid(True, which='both', linestyle='--', linewidth=0.5)\n",
    "\n",
    "plt.savefig('./generated/A1c.png', dpi=500)\n",
    "plt.show()"
   ]
  },
  {
   "cell_type": "markdown",
   "metadata": {},
   "source": [
    "### *Analysis: While the individual expenditure helped us identify how many outliers there were in spacific, here, we can see that big chunk customers spend around 6000~7000, and most of them around 10000. We also have a few spending extreme amounts, over 13000.*"
   ]
  }
 ],
 "metadata": {
  "kernelspec": {
   "display_name": "Python 3",
   "language": "python",
   "name": "python3"
  },
  "language_info": {
   "codemirror_mode": {
    "name": "ipython",
    "version": 3
   },
   "file_extension": ".py",
   "mimetype": "text/x-python",
   "name": "python",
   "nbconvert_exporter": "python",
   "pygments_lexer": "ipython3",
   "version": "3.13.1"
  }
 },
 "nbformat": 4,
 "nbformat_minor": 2
}
